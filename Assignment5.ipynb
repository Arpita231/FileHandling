{
  "nbformat": 4,
  "nbformat_minor": 0,
  "metadata": {
    "colab": {
      "provenance": []
    },
    "kernelspec": {
      "name": "python3",
      "display_name": "Python 3"
    },
    "language_info": {
      "name": "python"
    }
  },
  "cells": [
    {
      "cell_type": "markdown",
      "source": [
        "1.What is the difference between interpreted and compiled language?\n",
        "Ans: Interpreted: Code runs line by line (e.g., Python).\n",
        "Compiled: Code is converted into machine code before running (e.g., C++).\n",
        "\n",
        "2.What is exception handling in Python?\n",
        "Ans: It's a way to handle errors (called exceptions) in your code without crashing the program.\n",
        "\n",
        "3. What is the purpose of the finally block in exception handling?\n",
        "Ans: Code in the finally block always runs, whether there was an error or not.\n",
        "Often used to clean up (e.g., closing a file).\n",
        "\n",
        "4.What is logging in Python?\n",
        "Ans: Logging is a way to track events that happen while a program runs.\n",
        "Helps in debugging and monitoring the program.\n",
        "\n",
        "5. What is the significance of the __del__ method in Python?\n",
        "Ans: It's a destructor.\n",
        "Called when an object is about to be deleted.\n",
        "Used for cleanup.\n",
        "\n",
        "6. What is the difference between import and from ... import in Python?\n",
        "Ans: import module: You import the whole module.\n",
        "from module import something: You import just part of the module.\n",
        "\n",
        "7. How can you handle multiple exceptions in Python?\n",
        "Ans: By using try and except block.\n",
        "\n",
        "8. What is the purpose of the with statement when handling files in Python?\n",
        "Ans: It automatically closes the file after you're done.\n",
        "Safer and cleaner way to open files.\n",
        "\n",
        "9. What is the difference between multithreading and multiprocessing?\n",
        "Ans: Multithreading: Runs multiple tasks in the same process (good for I/O tasks).\n",
        "Multiprocessing: Runs tasks in separate processes (better for CPU-heavy tasks.\n",
        "\n",
        "10.What are the advantages of using logging in a program?\n",
        "Ans: Helps in debugging.\n",
        "Keeps track of events/errors.\n",
        "Can log info to files.\n",
        "Helps in analyzing behavior over time.\n",
        "\n",
        "11. What is memory management in Python?\n",
        "Ans: Python automatically manages memory.\n",
        "It keeps track of all variables and cleans up unused ones.\n",
        "\n",
        "12.What are the basic steps involved in exception handling in Python?\n",
        "Ans: Try to run code (try)\n",
        "Catch error if it happens (except)\n",
        "Run cleanup if needed (finally)\n",
        "Optionally, run if no error (else)\n",
        "\n",
        "13.Why is memory management important in Python?\n",
        "Ans: It helps avoid memory leaks.\n",
        "Keeps the program efficient and fast.\n",
        "\n",
        "14.What is the role of try and except in exception handling?\n",
        "Ans: try: Code that may cause an error.\n",
        "except: Code that runs if an error happens.\n",
        "\n",
        "15.How does Python's garbage collection system work?\n",
        "Ans: Python automatically finds and deletes unused objects in memory.\n",
        "Uses reference counting and a garbage collector for unused cycles.\n",
        "\n",
        "16. What is the purpose of the else block in exception handling?\n",
        "Ans: Runs only if no exception occurs in the try block.\n",
        "\n",
        "17. What are the common logging levels in Python?\n",
        "Ans: DEBUG- Detailed info (for developers)\n",
        "INFO-General information\n",
        "WARNING-Something might go wrong\n",
        "ERROR -An error happened\n",
        "CRITICAL-A serious error\n",
        "\n",
        "18.What is the difference between os.fork() and multiprocessing in Python?\n",
        "Ans: os.fork() - Low-level, works only on Unix.\n",
        "multiprocessing - Cross-platform, high-level, easier to use.\n",
        "\n",
        "\n",
        "20. What is the difference between file.read() and file.readline() in Python?\n",
        "Ans: Ans:file.read() - Reads entire file at once.\n",
        "file.readline() - Reads one line at a time.\n",
        "\n",
        "21.What is the logging module in Python used for?\n",
        "Ans: The logging module is used to record messages (logs) about your program's activities.\n",
        "Helps track errors, warnings, or events while the program runs.\n",
        "You can save these logs to a file for debugging later.\n",
        "\n",
        "22.What is the os module in Python used for in file handling?\n",
        "Ans: The os module helps you interact with the operating system.\n",
        "In file handling, it's used to:\n",
        "Check if a file or folder exists.\n",
        "Create/delete folders.\n",
        "Get file paths.\n",
        "Rename or remove files.\n",
        "\n",
        "23. What are the challenges associated with memory management in Python?\n",
        "Ans:Memory leaks: Sometimes objects stay in memory longer than needed.\n",
        "Circular references: Two objects reference each other, making cleanup harder.\n",
        "Large data: Managing large files or data structures can use too much memory.\n",
        "Slow performance: Poor memory handling can slow down programs.\n",
        "\n",
        "24. How do you raise an exception manually in Python?\n",
        "Ans:Use the raise keyword to trigger an exception yourself.\n",
        "\n",
        "25.Why is it important to use multithreading in certain applications?\n",
        "Ans:Multithreading helps your program do many things at once.\n",
        "Useful when your app is waiting (e.g., downloading files, reading input).\n",
        "Makes your app faster and more responsive.\n",
        "Example use case: A web server handling multiple users at the same time.\n",
        "\n",
        "\n",
        "\n",
        "\n",
        "\n",
        "\n",
        "\n",
        "\n"
      ],
      "metadata": {
        "id": "V3NdRM-ZKe8F"
      }
    },
    {
      "cell_type": "code",
      "source": [
        "#1.How can you open a file for writing in Python and write a string to it\n",
        "with open(\"myfile.txt\", \"w\") as file:\n",
        "    file.write(\"Hello, this is a test!\")\n"
      ],
      "metadata": {
        "id": "_IWU6XCrPmvC"
      },
      "execution_count": 2,
      "outputs": []
    },
    {
      "cell_type": "code",
      "source": [
        "#2.Write a Python program to read the contents of a file and print each line\n",
        "with open(\"myfile.txt\", \"r\") as file:\n",
        "    for line in file:\n",
        "        print(line.strip())\n"
      ],
      "metadata": {
        "colab": {
          "base_uri": "https://localhost:8080/"
        },
        "id": "0_BkSGs9QdZM",
        "outputId": "536d278c-9c91-4424-8c6b-9fd678ff6e97"
      },
      "execution_count": 3,
      "outputs": [
        {
          "output_type": "stream",
          "name": "stdout",
          "text": [
            "Hello, this is a test!\n"
          ]
        }
      ]
    },
    {
      "cell_type": "code",
      "source": [
        "#3. How would you handle a case where the file doesn't exist while trying to open it for reading\n",
        "try:\n",
        "    with open(\"nonexistent.txt\", \"r\") as file:\n",
        "        print(file.read())\n",
        "except FileNotFoundError:\n",
        "    print(\"The file does not exist.\")\n"
      ],
      "metadata": {
        "colab": {
          "base_uri": "https://localhost:8080/"
        },
        "id": "miePlELiQkpX",
        "outputId": "5d38fc3f-c8ad-4e7a-cd59-400c88838eb5"
      },
      "execution_count": 4,
      "outputs": [
        {
          "output_type": "stream",
          "name": "stdout",
          "text": [
            "The file does not exist.\n"
          ]
        }
      ]
    },
    {
      "cell_type": "code",
      "source": [
        "#5. How would you catch and handle division by zero error in Python\n",
        "try:\n",
        "    result = 10 / 0\n",
        "except ZeroDivisionError:\n",
        "    print(\"You can't divide by zero!\")\n"
      ],
      "metadata": {
        "colab": {
          "base_uri": "https://localhost:8080/"
        },
        "id": "pgHTqb0NQrgi",
        "outputId": "22412342-c68d-4981-8c50-3327248ad0dc"
      },
      "execution_count": 6,
      "outputs": [
        {
          "output_type": "stream",
          "name": "stdout",
          "text": [
            "You can't divide by zero!\n"
          ]
        }
      ]
    },
    {
      "cell_type": "code",
      "source": [
        "#6. Write a Python program that logs an error message to a log file when a division by zero exception occurs\n",
        "import logging\n",
        "\n",
        "logging.basicConfig(filename=\"errors.log\", level=logging.ERROR)\n",
        "\n",
        "try:\n",
        "    result = 10 / 0\n",
        "except ZeroDivisionError:\n",
        "    logging.error(\"Attempted division by zero.\")\n"
      ],
      "metadata": {
        "colab": {
          "base_uri": "https://localhost:8080/"
        },
        "id": "NNj7tVGOQ8vS",
        "outputId": "6baaa6d0-073c-4c19-82b0-90fe278984e9"
      },
      "execution_count": 7,
      "outputs": [
        {
          "output_type": "stream",
          "name": "stderr",
          "text": [
            "ERROR:root:Attempted division by zero.\n"
          ]
        }
      ]
    },
    {
      "cell_type": "code",
      "source": [
        "#7. How do you log information at different levels (INFO, ERROR, WARNING) in Python using the logging module\n",
        "import logging\n",
        "\n",
        "logging.basicConfig(level=logging.DEBUG)\n",
        "\n",
        "logging.info(\"This is an info message.\")\n",
        "logging.warning(\"This is a warning.\")\n",
        "logging.error(\"This is an error.\")\n"
      ],
      "metadata": {
        "colab": {
          "base_uri": "https://localhost:8080/"
        },
        "id": "sTa0IuPoRD7S",
        "outputId": "ebea2cb8-bb1a-41df-ef0c-933d3b73cda5"
      },
      "execution_count": 8,
      "outputs": [
        {
          "output_type": "stream",
          "name": "stderr",
          "text": [
            "WARNING:root:This is a warning.\n",
            "ERROR:root:This is an error.\n"
          ]
        }
      ]
    },
    {
      "cell_type": "code",
      "source": [
        "#8.Write a program to handle a file opening error using exception handling\n",
        "try:\n",
        "    with open(\"data.txt\", \"r\") as file:\n",
        "        print(file.read())\n",
        "except FileNotFoundError:\n",
        "    print(\"File not found!\")\n"
      ],
      "metadata": {
        "colab": {
          "base_uri": "https://localhost:8080/"
        },
        "id": "U4rQ1JEHRL9r",
        "outputId": "7fed9442-d8f1-44bd-bdaa-71b0678ed822"
      },
      "execution_count": 9,
      "outputs": [
        {
          "output_type": "stream",
          "name": "stdout",
          "text": [
            "File not found!\n"
          ]
        }
      ]
    },
    {
      "cell_type": "code",
      "source": [
        "#9. How can you read a file line by line and store its content in a list in Python\n",
        "lines = []\n",
        "\n",
        "with open(\"myfile.txt\", \"r\") as file:\n",
        "    lines = file.readlines()\n",
        "\n",
        "print(lines)\n"
      ],
      "metadata": {
        "colab": {
          "base_uri": "https://localhost:8080/"
        },
        "id": "seTLZmoQRUjf",
        "outputId": "8942a657-5963-44f2-9f4b-55413c1aeb28"
      },
      "execution_count": 10,
      "outputs": [
        {
          "output_type": "stream",
          "name": "stdout",
          "text": [
            "['Hello, this is a test!']\n"
          ]
        }
      ]
    },
    {
      "cell_type": "code",
      "source": [
        "#10. How can you append data to an existing file in Python\n",
        "with open(\"myfile.txt\", \"a\") as file:\n",
        "    file.write(\"\\nThis is new appended data.\")\n"
      ],
      "metadata": {
        "id": "UfoQFa3yRbrm"
      },
      "execution_count": 12,
      "outputs": []
    },
    {
      "cell_type": "code",
      "source": [
        "#11.Write a Python program that uses a try-except block to handle an error when attempting to access a dictionary key that doesn't exist\n",
        "data = {\"name\": \"Alice\"}\n",
        "\n",
        "try:\n",
        "    print(data[\"age\"])\n",
        "except KeyError:\n",
        "    print(\"Key does not exist in the dictionary.\")\n",
        "\n"
      ],
      "metadata": {
        "colab": {
          "base_uri": "https://localhost:8080/"
        },
        "id": "vw-7_-UpRjvj",
        "outputId": "e9c20ce2-f135-46f1-ffae-f7df6423a28f"
      },
      "execution_count": 13,
      "outputs": [
        {
          "output_type": "stream",
          "name": "stdout",
          "text": [
            "Key does not exist in the dictionary.\n"
          ]
        }
      ]
    },
    {
      "cell_type": "code",
      "source": [
        "#12. Write a program that demonstrates using multiple except blocks to handle different types of exceptions\n",
        "try:\n",
        "    x = int(\"abc\")  # ValueError\n",
        "    y = 10 / 0      # ZeroDivisionError\n",
        "except ValueError:\n",
        "    print(\"Invalid value.\")\n",
        "except ZeroDivisionError:\n",
        "    print(\"Cannot divide by zero.\")\n"
      ],
      "metadata": {
        "colab": {
          "base_uri": "https://localhost:8080/"
        },
        "id": "4AJno6qXR0qw",
        "outputId": "95642cad-c4fa-4c86-f16f-7f04df661662"
      },
      "execution_count": 14,
      "outputs": [
        {
          "output_type": "stream",
          "name": "stdout",
          "text": [
            "Invalid value.\n"
          ]
        }
      ]
    },
    {
      "cell_type": "code",
      "source": [
        "#13.How would you check if a file exists before attempting to read it in Python\n",
        "import os\n",
        "\n",
        "if os.path.exists(\"myfile.txt\"):\n",
        "    with open(\"myfile.txt\", \"r\") as f:\n",
        "        print(f.read())\n",
        "else:\n",
        "    print(\"File does not exist.\")\n"
      ],
      "metadata": {
        "colab": {
          "base_uri": "https://localhost:8080/"
        },
        "id": "6moL-PaLR9vT",
        "outputId": "bd569e71-36d1-43a3-e27b-f44e661d4aa8"
      },
      "execution_count": 15,
      "outputs": [
        {
          "output_type": "stream",
          "name": "stdout",
          "text": [
            "Hello, this is a test!\n",
            "This is new appended data.\n",
            "This is new appended data.\n"
          ]
        }
      ]
    },
    {
      "cell_type": "code",
      "source": [
        "#14.Write a program that uses the logging module to log both informational and error messages\n",
        "import logging\n",
        "\n",
        "logging.basicConfig(level=logging.INFO, filename=\"logfile.log\", filemode=\"w\")\n",
        "\n",
        "logging.info(\"Program started.\")\n",
        "try:\n",
        "    result = 10 / 0\n",
        "except ZeroDivisionError:\n",
        "    logging.error(\"Tried to divide by zero.\")\n"
      ],
      "metadata": {
        "colab": {
          "base_uri": "https://localhost:8080/"
        },
        "id": "FBHAKTC_SEV0",
        "outputId": "eae7d256-24f8-427a-8781-a7ef69a8a255"
      },
      "execution_count": 16,
      "outputs": [
        {
          "output_type": "stream",
          "name": "stderr",
          "text": [
            "ERROR:root:Tried to divide by zero.\n"
          ]
        }
      ]
    },
    {
      "cell_type": "code",
      "source": [
        "#15.Write a Python program that prints the content of a file and handles the case when the file is empty\n",
        "with open(\"myfile.txt\", \"r\") as file:\n",
        "    content = file.read()\n",
        "    if content:\n",
        "        print(content)\n",
        "    else:\n",
        "        print(\"The file is empty.\")\n"
      ],
      "metadata": {
        "colab": {
          "base_uri": "https://localhost:8080/"
        },
        "id": "tmt82dVkSLq6",
        "outputId": "b462bb8d-fe3f-40d1-8e80-5e45d6954b66"
      },
      "execution_count": 17,
      "outputs": [
        {
          "output_type": "stream",
          "name": "stdout",
          "text": [
            "Hello, this is a test!\n",
            "This is new appended data.\n",
            "This is new appended data.\n"
          ]
        }
      ]
    },
    {
      "cell_type": "code",
      "source": [
        "#18. How would you implement a basic logging setup that logs to a file with rotation after 1MB\n",
        "import logging\n",
        "from logging.handlers import RotatingFileHandler\n",
        "\n",
        "handler = RotatingFileHandler(\"app.log\", maxBytes=1_000_000, backupCount=3)\n",
        "logging.basicConfig(handlers=[handler], level=logging.INFO)\n",
        "\n",
        "logging.info(\"This is an informational message.\")\n"
      ],
      "metadata": {
        "id": "Y3LHziTdSehA"
      },
      "execution_count": 23,
      "outputs": []
    },
    {
      "cell_type": "code",
      "source": [
        "#19.Write a program that handles both IndexError and KeyError using a try-except block\n",
        "try:\n",
        "    my_list = [1, 2]\n",
        "    print(my_list[5])  # IndexError\n",
        "    my_dict = {\"a\": 1}\n",
        "    print(my_dict[\"b\"])  # KeyError\n",
        "except IndexError:\n",
        "    print(\"Index out of range.\")\n",
        "except KeyError:\n",
        "    print(\"Key not found.\")\n"
      ],
      "metadata": {
        "colab": {
          "base_uri": "https://localhost:8080/"
        },
        "id": "IwFPiJC3St0F",
        "outputId": "3ce9d851-e4df-4afa-e423-66e97ecf7379"
      },
      "execution_count": 24,
      "outputs": [
        {
          "output_type": "stream",
          "name": "stdout",
          "text": [
            "Index out of range.\n"
          ]
        }
      ]
    },
    {
      "cell_type": "code",
      "source": [
        "#20. How would you open a file and read its contents using a context manager in Python\n",
        "with open(\"myfile.txt\", \"r\") as file:\n",
        "    contents = file.read()\n",
        "    print(contents)\n"
      ],
      "metadata": {
        "colab": {
          "base_uri": "https://localhost:8080/"
        },
        "id": "YCIz3_gwS0na",
        "outputId": "438caa7b-bc37-4ce9-eab9-980f60afe8ae"
      },
      "execution_count": 25,
      "outputs": [
        {
          "output_type": "stream",
          "name": "stdout",
          "text": [
            "Hello, this is a test!\n",
            "This is new appended data.\n",
            "This is new appended data.\n"
          ]
        }
      ]
    },
    {
      "cell_type": "code",
      "source": [
        "#21.Write a Python program that reads a file and prints the number of occurrences of a specific word\n",
        "word_to_find = \"python\"\n",
        "\n",
        "with open(\"myfile.txt\", \"r\") as file:\n",
        "    content = file.read()\n",
        "    count = content.lower().count(word_to_find.lower())\n",
        "    print(f\"The word '{word_to_find}' occurs {count} times.\")\n"
      ],
      "metadata": {
        "colab": {
          "base_uri": "https://localhost:8080/"
        },
        "id": "9sD-Yvk3S7QN",
        "outputId": "d5744e6a-9363-4e1b-b8a3-9d1e80578908"
      },
      "execution_count": 26,
      "outputs": [
        {
          "output_type": "stream",
          "name": "stdout",
          "text": [
            "The word 'python' occurs 0 times.\n"
          ]
        }
      ]
    },
    {
      "cell_type": "code",
      "source": [
        "#22. How can you check if a file is empty before attempting to read its contents\n",
        "import os\n",
        "\n",
        "if os.path.getsize(\"myfile.txt\") == 0:\n",
        "    print(\"File is empty.\")\n",
        "else:\n",
        "    with open(\"myfile.txt\", \"r\") as file:\n",
        "        print(file.read())\n"
      ],
      "metadata": {
        "colab": {
          "base_uri": "https://localhost:8080/"
        },
        "id": "sL7CoN2_TBmU",
        "outputId": "756cd4db-8860-4a02-ab56-337a49de4b47"
      },
      "execution_count": 27,
      "outputs": [
        {
          "output_type": "stream",
          "name": "stdout",
          "text": [
            "Hello, this is a test!\n",
            "This is new appended data.\n",
            "This is new appended data.\n"
          ]
        }
      ]
    },
    {
      "cell_type": "code",
      "source": [
        "#23.Write a Python program that writes to a log file when an error occurs during file handling.\n",
        "import logging\n",
        "\n",
        "logging.basicConfig(filename=\"file_errors.log\", level=logging.ERROR)\n",
        "\n",
        "try:\n",
        "    with open(\"nonexistent.txt\", \"r\") as file:\n",
        "        print(file.read())\n",
        "except FileNotFoundError as e:\n",
        "    logging.error(f\"File error occurred: {e}\")\n"
      ],
      "metadata": {
        "colab": {
          "base_uri": "https://localhost:8080/"
        },
        "id": "WnfWkHvPTI5F",
        "outputId": "92e76626-23b5-4c49-954b-ab9921f0c298"
      },
      "execution_count": 28,
      "outputs": [
        {
          "output_type": "stream",
          "name": "stderr",
          "text": [
            "ERROR:root:File error occurred: [Errno 2] No such file or directory: 'nonexistent.txt'\n"
          ]
        }
      ]
    }
  ]
}